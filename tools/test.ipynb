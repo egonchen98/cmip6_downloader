{
 "cells": [
  {
   "cell_type": "code",
   "execution_count": 8,
   "metadata": {
    "collapsed": true,
    "ExecuteTime": {
     "start_time": "2023-05-16T15:53:22.166265Z",
     "end_time": "2023-05-16T15:53:22.222234Z"
    }
   },
   "outputs": [
    {
     "name": "stdout",
     "output_type": "stream",
     "text": [
      "The autoreload extension is already loaded. To reload it, use:\n",
      "  %reload_ext autoreload\n"
     ]
    }
   ],
   "source": [
    "import pandas as pd\n",
    "import download_cmip6\n",
    "import sys\n",
    "\n",
    "import requests\n",
    "import test_sql\n",
    "\n",
    "%load_ext autoreload\n",
    "%autoreload 2"
   ]
  },
  {
   "cell_type": "code",
   "execution_count": 42,
   "outputs": [
    {
     "ename": "NameError",
     "evalue": "name '__file__' is not defined",
     "output_type": "error",
     "traceback": [
      "\u001B[1;31m---------------------------------------------------------------------------\u001B[0m",
      "\u001B[1;31mNameError\u001B[0m                                 Traceback (most recent call last)",
      "Cell \u001B[1;32mIn[42], line 2\u001B[0m\n\u001B[0;32m      1\u001B[0m \u001B[38;5;28;01mimport\u001B[39;00m \u001B[38;5;21;01mos\u001B[39;00m\n\u001B[1;32m----> 2\u001B[0m cur_path \u001B[38;5;241m=\u001B[39m  os\u001B[38;5;241m.\u001B[39mpath\u001B[38;5;241m.\u001B[39mabspath(os\u001B[38;5;241m.\u001B[39mpath\u001B[38;5;241m.\u001B[39mdirname(\u001B[38;5;18;43m__file__\u001B[39;49m))\n",
      "\u001B[1;31mNameError\u001B[0m: name '__file__' is not defined"
     ]
    }
   ],
   "source": [
    "import os\n",
    "cur_path =  os.path.abspath(os.path.dirname(__file__))"
   ],
   "metadata": {
    "collapsed": false,
    "ExecuteTime": {
     "start_time": "2023-05-16T16:33:10.647474Z",
     "end_time": "2023-05-16T16:33:10.751820Z"
    }
   }
  },
  {
   "cell_type": "code",
   "execution_count": 32,
   "outputs": [
    {
     "data": {
      "text/plain": "                                                     url   \n0      http://esgf-data03.diasjp.net/thredds/fileServ...  \\\n1      http://esgf-data03.diasjp.net/thredds/fileServ...   \n2      http://esgf-data03.diasjp.net/thredds/fileServ...   \n3      http://esgf-data03.diasjp.net/thredds/fileServ...   \n4      http://esgf-data03.diasjp.net/thredds/fileServ...   \n...                                                  ...   \n18080  http://esgf3.dkrz.de/thredds/fileServer/cmip6/...   \n18081  http://esgf3.dkrz.de/thredds/fileServer/cmip6/...   \n18082  http://esgf3.dkrz.de/thredds/fileServer/cmip6/...   \n18083  http://esgf3.dkrz.de/thredds/fileServer/cmip6/...   \n18084  http://esgf3.dkrz.de/thredds/fileServer/cmip6/...   \n\n                        place   \n0      wget-20230513203925.sh  \\\n1      wget-20230513203925.sh   \n2      wget-20230513203930.sh   \n3      wget-20230513203930.sh   \n4      wget-20230513203935.sh   \n...                       ...   \n18080  wget-20230514063117.sh   \n18081  wget-20230514063117.sh   \n18082  wget-20230514063117.sh   \n18083  wget-20230514063117.sh   \n18084  wget-20230514063117.sh   \n\n                                                filename   param   \n0      vas_day_MRI-ESM2-0_historical_r1i1p1f1_gn_1950...     vas  \\\n1      vas_day_MRI-ESM2-0_historical_r1i1p1f1_gn_2000...     vas   \n2      uas_day_MRI-ESM2-0_historical_r1i1p1f1_gn_1950...     uas   \n3      uas_day_MRI-ESM2-0_historical_r1i1p1f1_gn_2000...     uas   \n4      tasmin_day_MRI-ESM2-0_historical_r1i1p1f1_gn_1...  tasmin   \n...                                                  ...     ...   \n18080  hurs_day_MPI-ESM1-2-HR_ssp126_r1i1p1f1_gn_2080...    hurs   \n18081  hurs_day_MPI-ESM1-2-HR_ssp126_r1i1p1f1_gn_2085...    hurs   \n18082  hurs_day_MPI-ESM1-2-HR_ssp126_r1i1p1f1_gn_2090...    hurs   \n18083  hurs_day_MPI-ESM1-2-HR_ssp126_r1i1p1f1_gn_2095...    hurs   \n18084  hurs_day_MPI-ESM1-2-HR_ssp126_r1i1p1f1_gn_2100...    hurs   \n\n               model    scenario  gn   st_date  end_date         status  \n0         MRI-ESM2-0  historical  gn  19500101  19991231  not requested  \n1         MRI-ESM2-0  historical  gn  20000101  20141231  not requested  \n2         MRI-ESM2-0  historical  gn  19500101  19991231  not requested  \n3         MRI-ESM2-0  historical  gn  20000101  20141231  not requested  \n4         MRI-ESM2-0  historical  gn  19500101  19991231  not requested  \n...              ...         ...  ..       ...       ...            ...  \n18080  MPI-ESM1-2-HR      ssp126  gn  20800101  20841231  not requested  \n18081  MPI-ESM1-2-HR      ssp126  gn  20850101  20891231  not requested  \n18082  MPI-ESM1-2-HR      ssp126  gn  20900101  20941231  not requested  \n18083  MPI-ESM1-2-HR      ssp126  gn  20950101  20991231  not requested  \n18084  MPI-ESM1-2-HR      ssp126  gn  21000101  21001231  not requested  \n\n[18085 rows x 10 columns]",
      "text/html": "<div>\n<style scoped>\n    .dataframe tbody tr th:only-of-type {\n        vertical-align: middle;\n    }\n\n    .dataframe tbody tr th {\n        vertical-align: top;\n    }\n\n    .dataframe thead th {\n        text-align: right;\n    }\n</style>\n<table border=\"1\" class=\"dataframe\">\n  <thead>\n    <tr style=\"text-align: right;\">\n      <th></th>\n      <th>url</th>\n      <th>place</th>\n      <th>filename</th>\n      <th>param</th>\n      <th>model</th>\n      <th>scenario</th>\n      <th>gn</th>\n      <th>st_date</th>\n      <th>end_date</th>\n      <th>status</th>\n    </tr>\n  </thead>\n  <tbody>\n    <tr>\n      <th>0</th>\n      <td>http://esgf-data03.diasjp.net/thredds/fileServ...</td>\n      <td>wget-20230513203925.sh</td>\n      <td>vas_day_MRI-ESM2-0_historical_r1i1p1f1_gn_1950...</td>\n      <td>vas</td>\n      <td>MRI-ESM2-0</td>\n      <td>historical</td>\n      <td>gn</td>\n      <td>19500101</td>\n      <td>19991231</td>\n      <td>not requested</td>\n    </tr>\n    <tr>\n      <th>1</th>\n      <td>http://esgf-data03.diasjp.net/thredds/fileServ...</td>\n      <td>wget-20230513203925.sh</td>\n      <td>vas_day_MRI-ESM2-0_historical_r1i1p1f1_gn_2000...</td>\n      <td>vas</td>\n      <td>MRI-ESM2-0</td>\n      <td>historical</td>\n      <td>gn</td>\n      <td>20000101</td>\n      <td>20141231</td>\n      <td>not requested</td>\n    </tr>\n    <tr>\n      <th>2</th>\n      <td>http://esgf-data03.diasjp.net/thredds/fileServ...</td>\n      <td>wget-20230513203930.sh</td>\n      <td>uas_day_MRI-ESM2-0_historical_r1i1p1f1_gn_1950...</td>\n      <td>uas</td>\n      <td>MRI-ESM2-0</td>\n      <td>historical</td>\n      <td>gn</td>\n      <td>19500101</td>\n      <td>19991231</td>\n      <td>not requested</td>\n    </tr>\n    <tr>\n      <th>3</th>\n      <td>http://esgf-data03.diasjp.net/thredds/fileServ...</td>\n      <td>wget-20230513203930.sh</td>\n      <td>uas_day_MRI-ESM2-0_historical_r1i1p1f1_gn_2000...</td>\n      <td>uas</td>\n      <td>MRI-ESM2-0</td>\n      <td>historical</td>\n      <td>gn</td>\n      <td>20000101</td>\n      <td>20141231</td>\n      <td>not requested</td>\n    </tr>\n    <tr>\n      <th>4</th>\n      <td>http://esgf-data03.diasjp.net/thredds/fileServ...</td>\n      <td>wget-20230513203935.sh</td>\n      <td>tasmin_day_MRI-ESM2-0_historical_r1i1p1f1_gn_1...</td>\n      <td>tasmin</td>\n      <td>MRI-ESM2-0</td>\n      <td>historical</td>\n      <td>gn</td>\n      <td>19500101</td>\n      <td>19991231</td>\n      <td>not requested</td>\n    </tr>\n    <tr>\n      <th>...</th>\n      <td>...</td>\n      <td>...</td>\n      <td>...</td>\n      <td>...</td>\n      <td>...</td>\n      <td>...</td>\n      <td>...</td>\n      <td>...</td>\n      <td>...</td>\n      <td>...</td>\n    </tr>\n    <tr>\n      <th>18080</th>\n      <td>http://esgf3.dkrz.de/thredds/fileServer/cmip6/...</td>\n      <td>wget-20230514063117.sh</td>\n      <td>hurs_day_MPI-ESM1-2-HR_ssp126_r1i1p1f1_gn_2080...</td>\n      <td>hurs</td>\n      <td>MPI-ESM1-2-HR</td>\n      <td>ssp126</td>\n      <td>gn</td>\n      <td>20800101</td>\n      <td>20841231</td>\n      <td>not requested</td>\n    </tr>\n    <tr>\n      <th>18081</th>\n      <td>http://esgf3.dkrz.de/thredds/fileServer/cmip6/...</td>\n      <td>wget-20230514063117.sh</td>\n      <td>hurs_day_MPI-ESM1-2-HR_ssp126_r1i1p1f1_gn_2085...</td>\n      <td>hurs</td>\n      <td>MPI-ESM1-2-HR</td>\n      <td>ssp126</td>\n      <td>gn</td>\n      <td>20850101</td>\n      <td>20891231</td>\n      <td>not requested</td>\n    </tr>\n    <tr>\n      <th>18082</th>\n      <td>http://esgf3.dkrz.de/thredds/fileServer/cmip6/...</td>\n      <td>wget-20230514063117.sh</td>\n      <td>hurs_day_MPI-ESM1-2-HR_ssp126_r1i1p1f1_gn_2090...</td>\n      <td>hurs</td>\n      <td>MPI-ESM1-2-HR</td>\n      <td>ssp126</td>\n      <td>gn</td>\n      <td>20900101</td>\n      <td>20941231</td>\n      <td>not requested</td>\n    </tr>\n    <tr>\n      <th>18083</th>\n      <td>http://esgf3.dkrz.de/thredds/fileServer/cmip6/...</td>\n      <td>wget-20230514063117.sh</td>\n      <td>hurs_day_MPI-ESM1-2-HR_ssp126_r1i1p1f1_gn_2095...</td>\n      <td>hurs</td>\n      <td>MPI-ESM1-2-HR</td>\n      <td>ssp126</td>\n      <td>gn</td>\n      <td>20950101</td>\n      <td>20991231</td>\n      <td>not requested</td>\n    </tr>\n    <tr>\n      <th>18084</th>\n      <td>http://esgf3.dkrz.de/thredds/fileServer/cmip6/...</td>\n      <td>wget-20230514063117.sh</td>\n      <td>hurs_day_MPI-ESM1-2-HR_ssp126_r1i1p1f1_gn_2100...</td>\n      <td>hurs</td>\n      <td>MPI-ESM1-2-HR</td>\n      <td>ssp126</td>\n      <td>gn</td>\n      <td>21000101</td>\n      <td>21001231</td>\n      <td>not requested</td>\n    </tr>\n  </tbody>\n</table>\n<p>18085 rows × 10 columns</p>\n</div>"
     },
     "execution_count": 32,
     "metadata": {},
     "output_type": "execute_result"
    }
   ],
   "source": [
    "df.loc[df.status=='not requested']"
   ],
   "metadata": {
    "collapsed": false,
    "ExecuteTime": {
     "start_time": "2023-05-16T16:10:51.955753Z",
     "end_time": "2023-05-16T16:10:52.012450Z"
    }
   }
  },
  {
   "cell_type": "code",
   "execution_count": 34,
   "outputs": [
    {
     "ename": "ValueError",
     "evalue": "Cannot take a larger sample than population when 'replace=False'",
     "output_type": "error",
     "traceback": [
      "\u001B[1;31m---------------------------------------------------------------------------\u001B[0m",
      "\u001B[1;31mValueError\u001B[0m                                Traceback (most recent call last)",
      "Cell \u001B[1;32mIn[34], line 1\u001B[0m\n\u001B[1;32m----> 1\u001B[0m \u001B[43mdf\u001B[49m\u001B[38;5;241;43m.\u001B[39;49m\u001B[43msample\u001B[49m\u001B[43m(\u001B[49m\u001B[43mn\u001B[49m\u001B[38;5;241;43m=\u001B[39;49m\u001B[38;5;241;43m100000\u001B[39;49m\u001B[43m)\u001B[49m\n",
      "File \u001B[1;32mE:\\CMIP6 Training\\code\\venv\\lib\\site-packages\\pandas\\core\\generic.py:5858\u001B[0m, in \u001B[0;36mNDFrame.sample\u001B[1;34m(self, n, frac, replace, weights, random_state, axis, ignore_index)\u001B[0m\n\u001B[0;32m   5855\u001B[0m \u001B[38;5;28;01mif\u001B[39;00m weights \u001B[38;5;129;01mis\u001B[39;00m \u001B[38;5;129;01mnot\u001B[39;00m \u001B[38;5;28;01mNone\u001B[39;00m:\n\u001B[0;32m   5856\u001B[0m     weights \u001B[38;5;241m=\u001B[39m sample\u001B[38;5;241m.\u001B[39mpreprocess_weights(\u001B[38;5;28mself\u001B[39m, weights, axis)\n\u001B[1;32m-> 5858\u001B[0m sampled_indices \u001B[38;5;241m=\u001B[39m \u001B[43msample\u001B[49m\u001B[38;5;241;43m.\u001B[39;49m\u001B[43msample\u001B[49m\u001B[43m(\u001B[49m\u001B[43mobj_len\u001B[49m\u001B[43m,\u001B[49m\u001B[43m \u001B[49m\u001B[43msize\u001B[49m\u001B[43m,\u001B[49m\u001B[43m \u001B[49m\u001B[43mreplace\u001B[49m\u001B[43m,\u001B[49m\u001B[43m \u001B[49m\u001B[43mweights\u001B[49m\u001B[43m,\u001B[49m\u001B[43m \u001B[49m\u001B[43mrs\u001B[49m\u001B[43m)\u001B[49m\n\u001B[0;32m   5859\u001B[0m result \u001B[38;5;241m=\u001B[39m \u001B[38;5;28mself\u001B[39m\u001B[38;5;241m.\u001B[39mtake(sampled_indices, axis\u001B[38;5;241m=\u001B[39maxis)\n\u001B[0;32m   5861\u001B[0m \u001B[38;5;28;01mif\u001B[39;00m ignore_index:\n",
      "File \u001B[1;32mE:\\CMIP6 Training\\code\\venv\\lib\\site-packages\\pandas\\core\\sample.py:151\u001B[0m, in \u001B[0;36msample\u001B[1;34m(obj_len, size, replace, weights, random_state)\u001B[0m\n\u001B[0;32m    148\u001B[0m     \u001B[38;5;28;01melse\u001B[39;00m:\n\u001B[0;32m    149\u001B[0m         \u001B[38;5;28;01mraise\u001B[39;00m \u001B[38;5;167;01mValueError\u001B[39;00m(\u001B[38;5;124m\"\u001B[39m\u001B[38;5;124mInvalid weights: weights sum to zero\u001B[39m\u001B[38;5;124m\"\u001B[39m)\n\u001B[1;32m--> 151\u001B[0m \u001B[38;5;28;01mreturn\u001B[39;00m \u001B[43mrandom_state\u001B[49m\u001B[38;5;241;43m.\u001B[39;49m\u001B[43mchoice\u001B[49m\u001B[43m(\u001B[49m\u001B[43mobj_len\u001B[49m\u001B[43m,\u001B[49m\u001B[43m \u001B[49m\u001B[43msize\u001B[49m\u001B[38;5;241;43m=\u001B[39;49m\u001B[43msize\u001B[49m\u001B[43m,\u001B[49m\u001B[43m \u001B[49m\u001B[43mreplace\u001B[49m\u001B[38;5;241;43m=\u001B[39;49m\u001B[43mreplace\u001B[49m\u001B[43m,\u001B[49m\u001B[43m \u001B[49m\u001B[43mp\u001B[49m\u001B[38;5;241;43m=\u001B[39;49m\u001B[43mweights\u001B[49m\u001B[43m)\u001B[49m\u001B[38;5;241m.\u001B[39mastype(\n\u001B[0;32m    152\u001B[0m     np\u001B[38;5;241m.\u001B[39mintp, copy\u001B[38;5;241m=\u001B[39m\u001B[38;5;28;01mFalse\u001B[39;00m\n\u001B[0;32m    153\u001B[0m )\n",
      "File \u001B[1;32mmtrand.pyx:984\u001B[0m, in \u001B[0;36mnumpy.random.mtrand.RandomState.choice\u001B[1;34m()\u001B[0m\n",
      "\u001B[1;31mValueError\u001B[0m: Cannot take a larger sample than population when 'replace=False'"
     ]
    }
   ],
   "source": [
    "df.sample(n=100000)"
   ],
   "metadata": {
    "collapsed": false,
    "ExecuteTime": {
     "start_time": "2023-05-16T16:12:23.649869Z",
     "end_time": "2023-05-16T16:12:23.738730Z"
    }
   }
  },
  {
   "cell_type": "code",
   "execution_count": 13,
   "outputs": [
    {
     "data": {
      "text/plain": "                                                 filename\n0       tasmin_day_EC-Earth3_historical_r1i1p1f1_gr_19...\n48      tasmin_day_EC-Earth3_historical_r1i1p1f1_gr_19...\n40      tasmin_day_EC-Earth3_historical_r1i1p1f1_gr_19...\n32      tasmin_day_EC-Earth3_historical_r1i1p1f1_gr_19...\n24      tasmin_day_EC-Earth3_historical_r1i1p1f1_gr_19...\n...                                                   ...\n69561   vas_day_EC-Earth3_ssp585_r1i1p1f1_gr_21000101-...\n55404   vas_day_EC-Earth3_ssp585_r1i1p1f1_gr_21000101-...\n136914  vas_day_EC-Earth3_ssp585_r1i1p1f1_gr_21000101-...\n27948   vas_day_EC-Earth3_ssp585_r1i1p1f1_gr_21000101-...\n156648  vas_day_EC-Earth3_ssp585_r1i1p1f1_gr_21000101-...\n\n[184338 rows x 1 columns]",
      "text/html": "<div>\n<style scoped>\n    .dataframe tbody tr th:only-of-type {\n        vertical-align: middle;\n    }\n\n    .dataframe tbody tr th {\n        vertical-align: top;\n    }\n\n    .dataframe thead th {\n        text-align: right;\n    }\n</style>\n<table border=\"1\" class=\"dataframe\">\n  <thead>\n    <tr style=\"text-align: right;\">\n      <th></th>\n      <th>filename</th>\n    </tr>\n  </thead>\n  <tbody>\n    <tr>\n      <th>0</th>\n      <td>tasmin_day_EC-Earth3_historical_r1i1p1f1_gr_19...</td>\n    </tr>\n    <tr>\n      <th>48</th>\n      <td>tasmin_day_EC-Earth3_historical_r1i1p1f1_gr_19...</td>\n    </tr>\n    <tr>\n      <th>40</th>\n      <td>tasmin_day_EC-Earth3_historical_r1i1p1f1_gr_19...</td>\n    </tr>\n    <tr>\n      <th>32</th>\n      <td>tasmin_day_EC-Earth3_historical_r1i1p1f1_gr_19...</td>\n    </tr>\n    <tr>\n      <th>24</th>\n      <td>tasmin_day_EC-Earth3_historical_r1i1p1f1_gr_19...</td>\n    </tr>\n    <tr>\n      <th>...</th>\n      <td>...</td>\n    </tr>\n    <tr>\n      <th>69561</th>\n      <td>vas_day_EC-Earth3_ssp585_r1i1p1f1_gr_21000101-...</td>\n    </tr>\n    <tr>\n      <th>55404</th>\n      <td>vas_day_EC-Earth3_ssp585_r1i1p1f1_gr_21000101-...</td>\n    </tr>\n    <tr>\n      <th>136914</th>\n      <td>vas_day_EC-Earth3_ssp585_r1i1p1f1_gr_21000101-...</td>\n    </tr>\n    <tr>\n      <th>27948</th>\n      <td>vas_day_EC-Earth3_ssp585_r1i1p1f1_gr_21000101-...</td>\n    </tr>\n    <tr>\n      <th>156648</th>\n      <td>vas_day_EC-Earth3_ssp585_r1i1p1f1_gr_21000101-...</td>\n    </tr>\n  </tbody>\n</table>\n<p>184338 rows × 1 columns</p>\n</div>"
     },
     "execution_count": 13,
     "metadata": {},
     "output_type": "execute_result"
    }
   ],
   "source": [
    "df.sort_values(by='filename')"
   ],
   "metadata": {
    "collapsed": false,
    "ExecuteTime": {
     "start_time": "2023-05-16T15:55:40.724548Z",
     "end_time": "2023-05-16T15:55:40.919499Z"
    }
   }
  }
 ],
 "metadata": {
  "kernelspec": {
   "display_name": "Python 3",
   "language": "python",
   "name": "python3"
  },
  "language_info": {
   "codemirror_mode": {
    "name": "ipython",
    "version": 2
   },
   "file_extension": ".py",
   "mimetype": "text/x-python",
   "name": "python",
   "nbconvert_exporter": "python",
   "pygments_lexer": "ipython2",
   "version": "2.7.6"
  }
 },
 "nbformat": 4,
 "nbformat_minor": 0
}
